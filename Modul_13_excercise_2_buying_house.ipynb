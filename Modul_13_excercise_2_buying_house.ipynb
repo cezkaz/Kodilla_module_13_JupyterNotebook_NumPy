{
 "cells": [
  {
   "cell_type": "markdown",
   "id": "e7a88131",
   "metadata": {},
   "source": [
    "    Zamierzasz kupić mieszkanie. Upatrzone M kosztuje w tym momencie 120 tys. zł, jednak przewidujesz, \n",
    "    że przez następne 5 lat ceny mieszkań będą rosły w tempie 5% rocznie. W tym momencie \n",
    "    nie dysponujesz wystarczającymi środkami, dlatego znajdujesz ofertę banku, który proponuje lokatę, \n",
    "    do której dopłacasz pewna stałą kwotę na koniec każdego miesiąca. \n",
    "    Bank oferuje nominalną stopę procentową w wysokości 12% w skali roku, przy kapitalizacji miesięcznej.\n",
    "\n",
    "    Ile będzie wynosiła orientacyjna cena mieszkania za 5 lat?\n",
    "    Ile musisz wpłacać do banku każdego miesiąca, aby przy przedstawionej ofercie uzbierać na mieszkanie w ciągu 5 lat?\n",
    "    Stwórz wykres przedstawiający, jak w interwałach miesięcznych zmieniać się będzie cena mieszkania \n",
    "    (liniowy wzrost w całym okresie) oraz wartość twojej lokaty.\n",
    "    Do wykonania powyższego zadania wykorzystaj biblioteki NumPy, NumPy-financial oraz Matplotlib. \n",
    "    Odpowiedzi na pytania umieść w Notebooku (jeśli korzystasz) lub w komentarzach w kodzie."
   ]
  },
  {
   "cell_type": "markdown",
   "id": "834d55e1",
   "metadata": {},
   "source": [
    "#### Obliczanie przyszłej wartości mieszkania"
   ]
  },
  {
   "cell_type": "code",
   "execution_count": 1,
   "id": "8f27b160",
   "metadata": {},
   "outputs": [],
   "source": [
    "import pandas as pd\n",
    "import numpy as np\n",
    "import matplotlib.pyplot as plt\n",
    "import math as math\n",
    "import numpy_financial as npf"
   ]
  },
  {
   "cell_type": "code",
   "execution_count": 7,
   "id": "a0378c74",
   "metadata": {},
   "outputs": [],
   "source": [
    "rate = 0.05\n",
    "years = 5\n",
    "pv = 120000\n",
    "frequency = 12\n",
    "rate /= frequency\n",
    "nper = years * frequency"
   ]
  },
  {
   "cell_type": "code",
   "execution_count": 8,
   "id": "e9498b34",
   "metadata": {},
   "outputs": [],
   "source": [
    "periods = np.arange(1, nper+1, dtype=int)"
   ]
  },
  {
   "cell_type": "code",
   "execution_count": 17,
   "id": "fd4e9d48",
   "metadata": {},
   "outputs": [
    {
     "data": {
      "text/plain": [
       "array([120500.  , 121002.08, 121506.26, 122012.53, 122520.92, 123031.42,\n",
       "       123544.06, 124058.82, 124575.73, 125094.8 , 125616.03, 126139.43,\n",
       "       126665.01, 127192.78, 127722.75, 128254.93, 128789.32, 129325.95,\n",
       "       129864.8 , 130405.91, 130949.26, 131494.89, 132042.78, 132592.96,\n",
       "       133145.43, 133700.2 , 134257.29, 134816.69, 135378.43, 135942.51,\n",
       "       136508.93, 137077.72, 137648.88, 138222.41, 138798.34, 139376.67,\n",
       "       139957.4 , 140540.56, 141126.15, 141714.17, 142304.65, 142897.58,\n",
       "       143492.99, 144090.88, 144691.26, 145294.14, 145899.53, 146507.44,\n",
       "       147117.89, 147730.88, 148346.43, 148964.54, 149585.22, 150208.49,\n",
       "       150834.36, 151462.84, 152093.93, 152727.66, 153364.02, 154003.04])"
      ]
     },
     "execution_count": 17,
     "metadata": {},
     "output_type": "execute_result"
    }
   ],
   "source": [
    "future_value = -np.around(npf.fv(rate, periods, 0, pv), 2)\n",
    "future_value"
   ]
  },
  {
   "cell_type": "markdown",
   "id": "80412a26",
   "metadata": {},
   "source": [
    "### Cena mieszkania przy założeniu obecnej ich ceny 120 000 PLN oraz rosnącej ich ceny 5% p.a po 5 latach będzie wynosić 154 003 PLN"
   ]
  },
  {
   "cell_type": "markdown",
   "id": "869b1d38",
   "metadata": {},
   "source": [
    "#### Ile musisz wpłacać do banku każdego miesiąca, aby przy przedstawionej ofercie uzbierać na mieszkanie w ciągu 5 lat"
   ]
  },
  {
   "cell_type": "code",
   "execution_count": 21,
   "id": "bf9727da",
   "metadata": {},
   "outputs": [],
   "source": [
    "rate2 = 0.12\n",
    "years2 = 5\n",
    "fv = 154003\n",
    "frequency2 = 12\n",
    "rate2 /= frequency2"
   ]
  },
  {
   "cell_type": "code",
   "execution_count": 22,
   "id": "898b4a18",
   "metadata": {},
   "outputs": [],
   "source": [
    "nper = years * frequency2"
   ]
  },
  {
   "cell_type": "code",
   "execution_count": 47,
   "id": "a232362a",
   "metadata": {},
   "outputs": [
    {
     "data": {
      "text/plain": [
       "array([1885.68, 1904.54, 1923.58, 1942.82, 1962.25, 1981.87, 2001.69,\n",
       "       2021.71, 2041.92, 2062.34, 2082.97, 2103.8 , 2124.83, 2146.08,\n",
       "       2167.54, 2189.22, 2211.11, 2233.22, 2255.55, 2278.11, 2300.89,\n",
       "       2323.9 , 2347.14, 2370.61, 2394.32, 2418.26, 2442.44, 2466.87,\n",
       "       2491.53, 2516.45, 2541.61, 2567.03, 2592.7 , 2618.63, 2644.81,\n",
       "       2671.26, 2697.97, 2724.95, 2752.2 , 2779.73, 2807.52, 2835.6 ,\n",
       "       2863.95, 2892.59, 2921.52, 2950.73, 2980.24, 3010.04, 3040.15,\n",
       "       3070.55, 3101.25, 3132.26, 3163.59, 3195.22, 3227.18, 3259.45,\n",
       "       3292.04, 3324.96, 3358.21, 3391.79])"
      ]
     },
     "execution_count": 47,
     "metadata": {},
     "output_type": "execute_result"
    }
   ],
   "source": [
    "future_value_deposit1 = -np.around(npf.ppmt(rate2, periods, nper, 0, fv, 0), 2)\n",
    "future_value_deposit1"
   ]
  },
  {
   "cell_type": "markdown",
   "id": "fdf1b841",
   "metadata": {},
   "source": [
    "### powyżej wyliczona kwota depozytu wraz z odsetkami 12% z kapitalizacją miesięczną"
   ]
  },
  {
   "cell_type": "code",
   "execution_count": 62,
   "id": "0c797d20",
   "metadata": {},
   "outputs": [
    {
     "data": {
      "text/plain": [
       "154002.97"
      ]
     },
     "execution_count": 62,
     "metadata": {},
     "output_type": "execute_result"
    }
   ],
   "source": [
    "future_value_deposit1.sum()"
   ]
  },
  {
   "cell_type": "code",
   "execution_count": 56,
   "id": "6e8ca235",
   "metadata": {},
   "outputs": [
    {
     "data": {
      "text/plain": [
       "array([  1885.68,   3790.22,   5713.8 ,   7656.62,   9618.87,  11600.74,\n",
       "        13602.43,  15624.14,  17666.06,  19728.4 ,  21811.37,  23915.17,\n",
       "        26040.  ,  28186.08,  30353.62,  32542.84,  34753.95,  36987.17,\n",
       "        39242.72,  41520.83,  43821.72,  46145.62,  48492.76,  50863.37,\n",
       "        53257.69,  55675.95,  58118.39,  60585.26,  63076.79,  65593.24,\n",
       "        68134.85,  70701.88,  73294.58,  75913.21,  78558.02,  81229.28,\n",
       "        83927.25,  86652.2 ,  89404.4 ,  92184.13,  94991.65,  97827.25,\n",
       "       100691.2 , 103583.79, 106505.31, 109456.04, 112436.28, 115446.32,\n",
       "       118486.47, 121557.02, 124658.27, 127790.53, 130954.12, 134149.34,\n",
       "       137376.52, 140635.97, 143928.01, 147252.97, 150611.18, 154002.97])"
      ]
     },
     "execution_count": 56,
     "metadata": {},
     "output_type": "execute_result"
    }
   ],
   "source": [
    "np_future_value_deposit1 = np.cumsum(future_value_deposit1)\n",
    "np_future_value_deposit1"
   ]
  },
  {
   "cell_type": "markdown",
   "id": "d939469c",
   "metadata": {},
   "source": [
    "### miesiączna kwota depozyty w okresie 5 lat wynosi:"
   ]
  },
  {
   "cell_type": "code",
   "execution_count": 36,
   "id": "2bf87ed9",
   "metadata": {},
   "outputs": [
    {
     "data": {
      "text/plain": [
       "1885.68"
      ]
     },
     "execution_count": 36,
     "metadata": {},
     "output_type": "execute_result"
    }
   ],
   "source": [
    "future_value_deposit = -np.around(npf.pmt(rate2, nper, 0, fv), 2)\n",
    "future_value_deposit"
   ]
  },
  {
   "cell_type": "code",
   "execution_count": 31,
   "id": "bb7381f1",
   "metadata": {},
   "outputs": [
    {
     "data": {
      "text/plain": [
       "array([2566.72, 2566.72, 2566.72, 2566.72, 2566.72, 2566.72, 2566.72,\n",
       "       2566.72, 2566.72, 2566.72, 2566.72, 2566.72, 2566.72, 2566.72,\n",
       "       2566.72, 2566.72, 2566.72, 2566.72, 2566.72, 2566.72, 2566.72,\n",
       "       2566.72, 2566.72, 2566.72, 2566.72, 2566.72, 2566.72, 2566.72,\n",
       "       2566.72, 2566.72, 2566.72, 2566.72, 2566.72, 2566.72, 2566.72,\n",
       "       2566.72, 2566.72, 2566.72, 2566.72, 2566.72, 2566.72, 2566.72,\n",
       "       2566.72, 2566.72, 2566.72, 2566.72, 2566.72, 2566.72, 2566.72,\n",
       "       2566.72, 2566.72, 2566.72, 2566.72, 2566.72, 2566.72, 2566.72,\n",
       "       2566.72, 2566.72, 2566.72, 2566.72])"
      ]
     },
     "execution_count": 31,
     "metadata": {},
     "output_type": "execute_result"
    }
   ],
   "source": [
    "np.set_printoptions(suppress=True)\n",
    "\n",
    "principal1= np.around(np.zeros(nper)+(fv/nper),2)\n",
    "principal1"
   ]
  },
  {
   "cell_type": "code",
   "execution_count": 49,
   "id": "48f3090d",
   "metadata": {},
   "outputs": [
    {
     "data": {
      "text/plain": [
       "154003.19999999998"
      ]
     },
     "execution_count": 49,
     "metadata": {},
     "output_type": "execute_result"
    }
   ],
   "source": [
    "principal1.sum()"
   ]
  },
  {
   "cell_type": "code",
   "execution_count": 61,
   "id": "ec3aa106",
   "metadata": {},
   "outputs": [
    {
     "data": {
      "image/png": "[encoded data removed]",
      "text/plain": [
       "<Figure size 432x288 with 1 Axes>"
      ]
     },
     "metadata": {
      "needs_background": "light"
     },
     "output_type": "display_data"
    }
   ],
   "source": [
    "plt.plot(np_future_value_deposit1,label='skumulowana kwota oszczędności z odsetkami')\n",
    "plt.plot(future_value,label='ceny mieszkań')\n",
    "plt.legend()\n",
    "plt.xlabel('Liczba okresów miesięcznych')\n",
    "plt.ylabel('Wartość mieszkań')\n",
    "plt.show()"
   ]
  },
  {
   "cell_type": "markdown",
   "id": "a0ec53ba",
   "metadata": {},
   "source": [
    "### Aby zaoszczędzić na mieszkanie, które obecnie kosztuje 120 000 PLN przy wzroście cen mieszkań 5% p.a należy wpłacać do banku miesięcznie kwotę 1885,68 PLN przy założeniu oprocentowanie depozytu 12% p.a oraz kapitalizacji miesięcznej aby uzbierać kwotę równą wartości mieszkania za 5 lat tj. 154 003PLN"
   ]
  },
  {
   "cell_type": "code",
   "execution_count": null,
   "id": "548c2818",
   "metadata": {},
   "outputs": [],
   "source": []
  }
 ],
 "metadata": {
  "kernelspec": {
   "display_name": "Python 3 (ipykernel)",
   "language": "python",
   "name": "python3"
  },
  "language_info": {
   "codemirror_mode": {
    "name": "ipython",
    "version": 3
   },
   "file_extension": ".py",
   "mimetype": "text/x-python",
   "name": "python",
   "nbconvert_exporter": "python",
   "pygments_lexer": "ipython3",
   "version": "3.8.10"
  }
 },
 "nbformat": 4,
 "nbformat_minor": 5
}
