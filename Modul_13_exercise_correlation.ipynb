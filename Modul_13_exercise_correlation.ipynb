{
 "cells": [
  {
   "cell_type": "markdown",
   "id": "7d54965e",
   "metadata": {},
   "source": [
    "# Zadanie korelacja"
   ]
  },
  {
   "cell_type": "code",
   "execution_count": 1,
   "id": "236cade4",
   "metadata": {},
   "outputs": [],
   "source": [
    "import pandas as pd\n",
    "import numpy as np\n",
    "import matplotlib.pyplot as plt\n",
    "import math as math"
   ]
  },
  {
   "cell_type": "code",
   "execution_count": 2,
   "id": "b3e1e49b",
   "metadata": {},
   "outputs": [],
   "source": [
    "fertility_rate = [1.3, 1.95, 2.466, 1.6, 2.952, 1.801, 1.34, 1.34, 1.63, 2.326, 2.436, 6.563, 1.283, 1.43, 1.988, 1.61, 1.921, 2.4, 1.495, 4.705]\n",
    "life_expectancy = [76.84878, 81.40732, 77.57895, 74.16341, 68.84907, 73.88595, 75.26829, 76.26098, 80.57244, 65.46259, 67.5482, 55.02451, 76.2799, 82.29024, 69.80695, 81.40112, 82.19756, 74.22683, 80.12888, 45.55095]"
   ]
  },
  {
   "cell_type": "code",
   "execution_count": 3,
   "id": "2a467d95",
   "metadata": {},
   "outputs": [],
   "source": [
    "np_fertility_rate = np.array(fertility_rate)\n",
    "np_life_expectancy = np.array(life_expectancy)"
   ]
  },
  {
   "cell_type": "code",
   "execution_count": 7,
   "id": "1c03d8a9",
   "metadata": {},
   "outputs": [
    {
     "name": "stdout",
     "output_type": "stream",
     "text": [
      "[1.3   1.95  2.466 1.6   2.952 1.801 1.34  1.34  1.63  2.326 2.436 6.563\n",
      " 1.283 1.43  1.988 1.61  1.921 2.4   1.495 4.705]\n",
      "[76.84878 81.40732 77.57895 74.16341 68.84907 73.88595 75.26829 76.26098\n",
      " 80.57244 65.46259 67.5482  55.02451 76.2799  82.29024 69.80695 81.40112\n",
      " 82.19756 74.22683 80.12888 45.55095]\n"
     ]
    }
   ],
   "source": [
    "print(np_fertility_rate)\n",
    "print(np_life_expectancy)"
   ]
  },
  {
   "cell_type": "markdown",
   "id": "c4bf07a6",
   "metadata": {},
   "source": [
    "## obliczam średnią dla szeregu life_expectancy"
   ]
  },
  {
   "cell_type": "code",
   "execution_count": 8,
   "id": "7c0eca40",
   "metadata": {},
   "outputs": [
    {
     "name": "stdout",
     "output_type": "stream",
     "text": [
      "73.23764600000001\n"
     ]
    }
   ],
   "source": [
    "mean_np_life_expectancy = np.sum(np_life_expectancy) / np.count_nonzero(np_life_expectancy)\n",
    "print(mean_np_life_expectancy)"
   ]
  },
  {
   "cell_type": "markdown",
   "id": "36f3ea34",
   "metadata": {},
   "source": [
    "### średnia oczekiwana długość życia wynosi 73.237646 lat"
   ]
  },
  {
   "cell_type": "code",
   "execution_count": 9,
   "id": "d8fa9148",
   "metadata": {},
   "outputs": [
    {
     "name": "stdout",
     "output_type": "stream",
     "text": [
      "[45.55095 55.02451 65.46259 67.5482  68.84907 69.80695 73.88595 74.16341\n",
      " 74.22683 75.26829 76.26098 76.2799  76.84878 77.57895 80.12888 80.57244\n",
      " 81.40112 81.40732 82.19756 82.29024]\n"
     ]
    }
   ],
   "source": [
    "np_sorted_np_life_expectancy = np.sort(np_life_expectancy)\n",
    "print(np_sorted_np_life_expectancy)"
   ]
  },
  {
   "cell_type": "markdown",
   "id": "10800989",
   "metadata": {},
   "source": [
    "### obliczam medianę dla life_expectancy"
   ]
  },
  {
   "cell_type": "code",
   "execution_count": 11,
   "id": "5ba42f62",
   "metadata": {},
   "outputs": [
    {
     "name": "stdout",
     "output_type": "stream",
     "text": [
      "75.764635\n"
     ]
    }
   ],
   "source": [
    "print(np.median(np_sorted_np_life_expectancy))"
   ]
  },
  {
   "cell_type": "markdown",
   "id": "19e9b550",
   "metadata": {},
   "source": [
    "### sprawdzam olbiczoną średnią ze średnią z funkcji np.mean()"
   ]
  },
  {
   "cell_type": "code",
   "execution_count": 12,
   "id": "784ab736",
   "metadata": {},
   "outputs": [
    {
     "name": "stdout",
     "output_type": "stream",
     "text": [
      "73.23764600000001\n"
     ]
    }
   ],
   "source": [
    "print(np.mean(np_life_expectancy))"
   ]
  },
  {
   "cell_type": "markdown",
   "id": "bc8c2ff7",
   "metadata": {},
   "source": [
    "### obliczanie wariancji dla life_expectancy"
   ]
  },
  {
   "cell_type": "code",
   "execution_count": 13,
   "id": "d314df01",
   "metadata": {},
   "outputs": [
    {
     "name": "stdout",
     "output_type": "stream",
     "text": [
      "83.78440677763399\n"
     ]
    }
   ],
   "source": [
    "variance = np.var(np_life_expectancy)\n",
    "print(variance)"
   ]
  },
  {
   "cell_type": "markdown",
   "id": "07a7836d",
   "metadata": {},
   "source": [
    "## obliczam standardowe odchylenie dla zmiennej life_expectancy"
   ]
  },
  {
   "cell_type": "code",
   "execution_count": 14,
   "id": "8c1e37ba",
   "metadata": {},
   "outputs": [
    {
     "name": "stdout",
     "output_type": "stream",
     "text": [
      "9.153382258904847\n"
     ]
    }
   ],
   "source": [
    "print(np.std(np_life_expectancy))"
   ]
  },
  {
   "cell_type": "code",
   "execution_count": 15,
   "id": "9b05cd58",
   "metadata": {},
   "outputs": [
    {
     "name": "stdout",
     "output_type": "stream",
     "text": [
      "[  3.611134   8.169674   4.341304   0.925764  -4.388576   0.648304\n",
      "   2.030644   3.023334   7.334794  -7.775056  -5.689446 -18.213136\n",
      "   3.042254   9.052594  -3.430696   8.163474   8.959914   0.989184\n",
      "   6.891234 -27.686696]\n"
     ]
    }
   ],
   "source": [
    "a =  np_life_expectancy - mean_np_life_expectancy\n",
    "print(a)"
   ]
  },
  {
   "cell_type": "code",
   "execution_count": 16,
   "id": "97b8ea09",
   "metadata": {},
   "outputs": [
    {
     "name": "stdout",
     "output_type": "stream",
     "text": [
      "[1.30402888e+01 6.67435733e+01 1.88469204e+01 8.57038984e-01\n",
      " 1.92595993e+01 4.20298076e-01 4.12351505e+00 9.14054848e+00\n",
      " 5.37992030e+01 6.04514958e+01 3.23697958e+01 3.31718323e+02\n",
      " 9.25530940e+00 8.19494581e+01 1.17696750e+01 6.66423077e+01\n",
      " 8.02800589e+01 9.78484986e-01 4.74891060e+01 7.66553135e+02]\n"
     ]
    }
   ],
   "source": [
    "a1 = np.power(a, 2)\n",
    "print(a1)"
   ]
  },
  {
   "cell_type": "code",
   "execution_count": 17,
   "id": "3bcf330f",
   "metadata": {},
   "outputs": [
    {
     "name": "stdout",
     "output_type": "stream",
     "text": [
      "1675.6881355526798\n"
     ]
    }
   ],
   "source": [
    "a2 = np.sum(a1)\n",
    "print(a2)"
   ]
  },
  {
   "cell_type": "code",
   "execution_count": 18,
   "id": "5eebdb26",
   "metadata": {},
   "outputs": [
    {
     "name": "stdout",
     "output_type": "stream",
     "text": [
      "19\n"
     ]
    }
   ],
   "source": [
    "denom_np_life_expectancy = np.count_nonzero(np_life_expectancy) - 1\n",
    "print(denom_np_life_expectancy)"
   ]
  },
  {
   "cell_type": "code",
   "execution_count": 19,
   "id": "b52593bd",
   "metadata": {},
   "outputs": [
    {
     "name": "stdout",
     "output_type": "stream",
     "text": [
      "40.935169909903635\n"
     ]
    }
   ],
   "source": [
    "print(math.sqrt(a2))"
   ]
  },
  {
   "cell_type": "code",
   "execution_count": 20,
   "id": "d403ec84",
   "metadata": {},
   "outputs": [
    {
     "name": "stdout",
     "output_type": "stream",
     "text": [
      "9.39117204599668\n"
     ]
    }
   ],
   "source": [
    "standard_deviation_life_expactancy = math.sqrt(a2 / denom_np_life_expectancy)\n",
    "print(standard_deviation_life_expactancy)"
   ]
  },
  {
   "cell_type": "markdown",
   "id": "827c5329",
   "metadata": {},
   "source": [
    "### standardowe odchylenie dla zmiennej life_expectancy wynosi"
   ]
  },
  {
   "cell_type": "markdown",
   "id": "ca544ccf",
   "metadata": {},
   "source": [
    "### wykres dla zależności pomiędzy life_expectancy a fertility_rate"
   ]
  },
  {
   "cell_type": "code",
   "execution_count": 21,
   "id": "70a8faad",
   "metadata": {},
   "outputs": [
    {
     "data": {
      "image/png": "[encoded data removed]",
      "text/plain": [
       "<Figure size 432x288 with 1 Axes>"
      ]
     },
     "metadata": {
      "needs_background": "light"
     },
     "output_type": "display_data"
    }
   ],
   "source": [
    "plt.scatter(np_fertility_rate, np_life_expectancy)\n",
    "plt.xlabel('fertility_rate')\n",
    "plt.ylabel('life_expetancy in years')\n",
    "plt.title('Correlation between life expectancy and fertility rate')\n",
    "plt.grid(True)\n",
    "plt.show()"
   ]
  },
  {
   "cell_type": "markdown",
   "id": "49b057f6",
   "metadata": {},
   "source": [
    "### obliczam kowariancję funkcją np.cov()"
   ]
  },
  {
   "cell_type": "code",
   "execution_count": 22,
   "id": "a21c7f69",
   "metadata": {},
   "outputs": [
    {
     "name": "stdout",
     "output_type": "stream",
     "text": [
      "[[ 1.66535585 -9.94370445]\n",
      " [-9.94370445 88.1941124 ]]\n"
     ]
    }
   ],
   "source": [
    "covariance = np.cov(np_fertility_rate, np_life_expectancy)\n",
    "print(covariance)"
   ]
  },
  {
   "cell_type": "markdown",
   "id": "fef3ab20",
   "metadata": {},
   "source": [
    "### obliczanie kowariancji wg wzoru suma(Xi - Xśr)*(Yi - Yśr)/ n-1"
   ]
  },
  {
   "cell_type": "code",
   "execution_count": 23,
   "id": "eae20fd6",
   "metadata": {},
   "outputs": [
    {
     "name": "stdout",
     "output_type": "stream",
     "text": [
      "2.2268\n"
     ]
    }
   ],
   "source": [
    "mean_np_fertility_rate = np.sum(np_fertility_rate) / np.count_nonzero(np_fertility_rate)\n",
    "print(mean_np_fertility_rate)"
   ]
  },
  {
   "cell_type": "code",
   "execution_count": 24,
   "id": "4651eeab",
   "metadata": {},
   "outputs": [
    {
     "name": "stdout",
     "output_type": "stream",
     "text": [
      "-188.93038448599998\n"
     ]
    }
   ],
   "source": [
    "x1 = np.sum((np_life_expectancy - mean_np_life_expectancy) * (np_fertility_rate - mean_np_fertility_rate))\n",
    "print(x1)"
   ]
  },
  {
   "cell_type": "code",
   "execution_count": 25,
   "id": "dd9d89a5",
   "metadata": {},
   "outputs": [
    {
     "data": {
      "text/plain": [
       "19"
      ]
     },
     "execution_count": 25,
     "metadata": {},
     "output_type": "execute_result"
    }
   ],
   "source": [
    "x12 =  np.count_nonzero(np_life_expectancy) - 1\n",
    "x12"
   ]
  },
  {
   "cell_type": "code",
   "execution_count": 26,
   "id": "aafad504",
   "metadata": {},
   "outputs": [
    {
     "data": {
      "text/plain": [
       "-9.943704446631578"
      ]
     },
     "execution_count": 26,
     "metadata": {},
     "output_type": "execute_result"
    }
   ],
   "source": [
    "covariance = x1 / x12\n",
    "covariance"
   ]
  },
  {
   "cell_type": "markdown",
   "id": "17190851",
   "metadata": {},
   "source": [
    "### kowariancja próby wynosi -9.943704446631578"
   ]
  },
  {
   "cell_type": "markdown",
   "id": "9ebf8406",
   "metadata": {},
   "source": [
    "## kowariancja przyjmuje wartość ujemną co oznacza, że przy wzroście dzietności maleje life_expectancy"
   ]
  },
  {
   "cell_type": "markdown",
   "id": "447f2332",
   "metadata": {},
   "source": [
    "### obliczam standardowe odchylenie dla zmiennej fertility_rate"
   ]
  },
  {
   "cell_type": "code",
   "execution_count": 27,
   "id": "e5d7d860",
   "metadata": {},
   "outputs": [
    {
     "name": "stdout",
     "output_type": "stream",
     "text": [
      "1.257810820433661\n"
     ]
    }
   ],
   "source": [
    "print(np.std(np_fertility_rate))"
   ]
  },
  {
   "cell_type": "code",
   "execution_count": 28,
   "id": "fcb6b033",
   "metadata": {},
   "outputs": [
    {
     "name": "stdout",
     "output_type": "stream",
     "text": [
      "[-0.9268 -0.2768  0.2392 -0.6268  0.7252 -0.4258 -0.8868 -0.8868 -0.5968\n",
      "  0.0992  0.2092  4.3362 -0.9438 -0.7968 -0.2388 -0.6168 -0.3058  0.1732\n",
      " -0.7318  2.4782]\n"
     ]
    }
   ],
   "source": [
    "nom_np_fertility_rate =  np_fertility_rate - mean_np_fertility_rate\n",
    "print(nom_np_fertility_rate)"
   ]
  },
  {
   "cell_type": "code",
   "execution_count": 29,
   "id": "8ee303b5",
   "metadata": {},
   "outputs": [
    {
     "data": {
      "text/plain": [
       "array([8.58958240e-01, 7.66182400e-02, 5.72166400e-02, 3.92878240e-01,\n",
       "       5.25915040e-01, 1.81305640e-01, 7.86414240e-01, 7.86414240e-01,\n",
       "       3.56170240e-01, 9.84064000e-03, 4.37646400e-02, 1.88026304e+01,\n",
       "       8.90758440e-01, 6.34890240e-01, 5.70254400e-02, 3.80442240e-01,\n",
       "       9.35136400e-02, 2.99982400e-02, 5.35531240e-01, 6.14147524e+00])"
      ]
     },
     "execution_count": 29,
     "metadata": {},
     "output_type": "execute_result"
    }
   ],
   "source": [
    "power_nom_np_fertility_rate = np.power(nom_np_fertility_rate, 2)\n",
    "power_nom_np_fertility_rate"
   ]
  },
  {
   "cell_type": "code",
   "execution_count": 30,
   "id": "0a0b52a6",
   "metadata": {},
   "outputs": [
    {
     "data": {
      "text/plain": [
       "19"
      ]
     },
     "execution_count": 30,
     "metadata": {},
     "output_type": "execute_result"
    }
   ],
   "source": [
    "denom = np.count_nonzero(np_fertility_rate) - 1\n",
    "denom"
   ]
  },
  {
   "cell_type": "code",
   "execution_count": 32,
   "id": "bb5703be",
   "metadata": {},
   "outputs": [
    {
     "name": "stdout",
     "output_type": "stream",
     "text": [
      "31.641761199999998\n"
     ]
    }
   ],
   "source": [
    "sum_nom_np_fertility_rate = np.sum(power_nom_np_fertility_rate)\n",
    "print(sum_nom_np_fertility_rate)"
   ]
  },
  {
   "cell_type": "code",
   "execution_count": 33,
   "id": "328f7acb",
   "metadata": {},
   "outputs": [
    {
     "data": {
      "text/plain": [
       "1.2904866727834035"
      ]
     },
     "execution_count": 33,
     "metadata": {},
     "output_type": "execute_result"
    }
   ],
   "source": [
    "std_dev_np_fertility_rate = np.sqrt(sum_nom_np_fertility_rate / denom)\n",
    "std_dev_np_fertility_rate"
   ]
  },
  {
   "cell_type": "markdown",
   "id": "00bfc06d",
   "metadata": {},
   "source": [
    "### standardowe odchylenie obliczone bez funkcji wbudowanej wynosi 1.2904866727834035"
   ]
  },
  {
   "cell_type": "markdown",
   "id": "5690c52a",
   "metadata": {},
   "source": [
    "## obliczam współczynnik korelacji\n",
    "### przy standardowym odchyleniu fertility_rate na poziomie 1.2904866727834035 oraz\n",
    "### standardowym odchyleniu life_expectancy na poziomie 9.39117204599668\n",
    "### oraz kowariancji = -9.943704446631578"
   ]
  },
  {
   "cell_type": "code",
   "execution_count": 35,
   "id": "fb42c8b0",
   "metadata": {},
   "outputs": [
    {
     "data": {
      "text/plain": [
       "array([[ 1.        , -0.82049301],\n",
       "       [-0.82049301,  1.        ]])"
      ]
     },
     "execution_count": 35,
     "metadata": {},
     "output_type": "execute_result"
    }
   ],
   "source": [
    "correlation_coeff2 = np.corrcoef(np_fertility_rate, np_life_expectancy)\n",
    "correlation_coeff2"
   ]
  },
  {
   "cell_type": "markdown",
   "id": "1e0ee665",
   "metadata": {},
   "source": [
    "### współczynnik korelacji przyjmuje wartość ujemną co oznacza, że przy wzroście life_expectancy maleje dzietność\n",
    "### korelacja w przedziale 0,7 < |r| < <= 0,9 jest korelacją bardzo wysoką, jednakże nie wzięto pod uwagę innych czynników nr GDP kraju, dochód na obywatela w kraju co pokazałoby, że inne czynniki wpływają na oczekiwaną długość życia oraz dzietność\n",
    "\n",
    "## przedziały ufności\n",
    "### średnia oczekiwana długość życia dla całej populacji przy poziomie ufności 95% i odchyleniu standardowym 9,09"
   ]
  },
  {
   "cell_type": "code",
   "execution_count": 36,
   "id": "64b72c99",
   "metadata": {},
   "outputs": [
    {
     "name": "stdout",
     "output_type": "stream",
     "text": [
      "Średnia występuje w przedziale 77.22151415143274 oraz 69.25377784856728\n"
     ]
    }
   ],
   "source": [
    "odchyl_standard = 9.09\n",
    "confidence_level = 0.95\n",
    "significance_level = confidence_level - 1\n",
    "z_alfa_2 = 1.96\n",
    "srednia1 = mean_np_life_expectancy + ((z_alfa_2 * odchyl_standard) / np.sqrt(len(np_life_expectancy)))\n",
    "srednia2 = mean_np_life_expectancy - ((z_alfa_2 * odchyl_standard) / np.sqrt(len(np_life_expectancy)))\n",
    "print(f\"Średnia występuje w przedziale {srednia1} oraz {srednia2}\")"
   ]
  },
  {
   "cell_type": "markdown",
   "id": "37b64d07",
   "metadata": {},
   "source": [
    "### średnia oczekiwana długość życia dla całej populacji przy poziomie ufności 95% i odchyleniu standardowym 9,09 osiąga wartości: \n",
    "### w przedziale 77.22151415143274 oraz 69.25377784856728"
   ]
  },
  {
   "cell_type": "code",
   "execution_count": null,
   "id": "86208d6c",
   "metadata": {},
   "outputs": [],
   "source": []
  }
 ],
 "metadata": {
  "kernelspec": {
   "display_name": "Python 3 (ipykernel)",
   "language": "python",
   "name": "python3"
  },
  "language_info": {
   "codemirror_mode": {
    "name": "ipython",
    "version": 3
   },
   "file_extension": ".py",
   "mimetype": "text/x-python",
   "name": "python",
   "nbconvert_exporter": "python",
   "pygments_lexer": "ipython3",
   "version": "3.8.10"
  }
 },
 "nbformat": 4,
 "nbformat_minor": 5
}
